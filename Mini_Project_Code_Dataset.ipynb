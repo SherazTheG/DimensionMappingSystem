{
 "cells": [
  {
   "cell_type": "code",
   "execution_count": 8,
   "metadata": {},
   "outputs": [],
   "source": [
    "import pandas as pd\n",
    "import numpy as np\n",
    "import random\n",
    "import matplotlib.pyplot as plt"
   ]
  },
  {
   "cell_type": "code",
   "execution_count": 9,
   "metadata": {},
   "outputs": [],
   "source": [
    "def classify_box(length, width, height):\n",
    "    if length <= 15 and width <= 15 and height <= 15:\n",
    "        return \"small box\"\n",
    "    elif length <= 30 and width <= 30 and height <= 30:\n",
    "        return \"medium box\"\n",
    "    else:\n",
    "        return \"large box\""
   ]
  },
  {
   "cell_type": "code",
   "execution_count": 10,
   "metadata": {},
   "outputs": [],
   "source": [
    "samples_per_class = 333\n",
    "total_samples = samples_per_class * 3\n",
    "\n",
    "data = []"
   ]
  },
  {
   "cell_type": "code",
   "execution_count": 11,
   "metadata": {},
   "outputs": [],
   "source": [
    "while len(data) < total_samples:\n",
    "    length = random.randint(5, 70)\n",
    "    width = random.randint(5, 70)\n",
    "    height = random.randint(5, 70)\n",
    "    \n",
    "    label = classify_box(length, width, height)\n",
    "\n",
    "    # Count occurrences of each class\n",
    "    small_count = sum(1 for d in data if d[3] == \"small box\")\n",
    "    medium_count = sum(1 for d in data if d[3] == \"medium box\")\n",
    "    large_count = sum(1 for d in data if d[3] == \"large box\")\n",
    "\n",
    "    # Ensure equal distribution\n",
    "    if label == \"small box\" and small_count < samples_per_class:\n",
    "        data.append([length, width, height, label])\n",
    "    elif label == \"medium box\" and medium_count < samples_per_class:\n",
    "        data.append([length, width, height, label])\n",
    "    elif label == \"large box\" and large_count < samples_per_class:\n",
    "        data.append([length, width, height, label])"
   ]
  },
  {
   "cell_type": "code",
   "execution_count": 12,
   "metadata": {},
   "outputs": [],
   "source": [
    "df = pd.DataFrame(data, columns=[\"Length\", \"Width\", \"Height\", \"Class\"])"
   ]
  },
  {
   "cell_type": "code",
   "execution_count": 13,
   "metadata": {},
   "outputs": [],
   "source": [
    "df.to_csv(\"box_classification_dataset.csv\", index=False)"
   ]
  },
  {
   "cell_type": "code",
   "execution_count": null,
   "metadata": {},
   "outputs": [],
   "source": []
  }
 ],
 "metadata": {
  "kernelspec": {
   "display_name": "env",
   "language": "python",
   "name": "python3"
  },
  "language_info": {
   "codemirror_mode": {
    "name": "ipython",
    "version": 3
   },
   "file_extension": ".py",
   "mimetype": "text/x-python",
   "name": "python",
   "nbconvert_exporter": "python",
   "pygments_lexer": "ipython3",
   "version": "3.7.4"
  }
 },
 "nbformat": 4,
 "nbformat_minor": 2
}
